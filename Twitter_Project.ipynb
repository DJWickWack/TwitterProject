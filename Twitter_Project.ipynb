{
 "cells": [
  {
   "cell_type": "code",
   "execution_count": 4,
   "metadata": {},
   "outputs": [],
   "source": [
    "import tweepy\n",
    "from IPython.display import clear_output\n",
    "import json\n",
    "import pandas as pd\n",
    "from time import sleep\n",
    "import datetime\n",
    "import os\n",
    "from textblob import TextBlob\n",
    "import networkx as nx\n",
    "#import twitter apps configaration file from config.py file\n",
    "from config import keys as k\n",
    "#\"GamsuOW\",\"STRIKER_OW\",\"blaseOW\",\"aimgod_ow\",\"KellexOW\",\"HarryHook\",\"MickiePP\",\n",
    "#          \"DF_aKm\",\"uNKOE\",\"OGE_ow\",\"HAGOPEUN_OW\",\"minon501\",\"MisfitsTviQuE\",\"xepher123\",\n",
    "#          \"Apply\",\"Muma\",\"BaniOW\",\"Forceboink\",\"LiNkzrOW\",\"coolmatt69\",\"Birdring\",\n",
    "Players=[\"BdosinOW\",\n",
    "         \"NUS_OW\",\"Furyy_d\",\"Surefour\",\"BischuGG\", \"Shaz_OW\",\"Hydration\",\n",
    "         \"karivow\",\"spaceOW\",\"Custa\",\"agilities\",\"Fate_ow\",\"saebyeolbe\",\"MekOppa\",\"Anamo_ow\",\"tf2pine\",\n",
    "         \"Mano_OWL\",\"Boombox\",\"carpe_ow\",\"snillo_ow\",\"SADO_OW\",\"smurf_ow\",\"moth_ow\",\"Shock_CHB\",\n",
    "         \"super_OW\",\"KING_BABYBAY\"]\n"
   ]
  },
  {
   "cell_type": "code",
   "execution_count": 5,
   "metadata": {},
   "outputs": [],
   "source": [
    "class tweets():\n",
    "    def __init__(self,keys):\n",
    "        #Authentication using keys & accesstoken\n",
    "        auth = tweepy.OAuthHandler(keys.consumer_key, keys.consumer_secret)\n",
    "        auth.set_access_token(keys.access_token, keys.access_token_secret)\n",
    "        self.api = tweepy.API(auth)\n",
    "    def get_info_about_user(self,user_name):\n",
    "        #Donal Trump Twitter account\n",
    "        user = self.api.get_user(user_name)\n",
    "        print(\"Name:\", user.name)\n",
    "        print(\"User id: \", user.id_str)\n",
    "        print(\"Description: \", user.description)\n",
    "        print(\"Location:\",user.location)\n",
    "        print(\"Time zone: \", user.time_zone)\n",
    "        print(\"Number of Following:\",user.friends_count)\n",
    "        print(\"Number of Followers:\",user.followers_count)\n",
    "        print(\"Number of tweets: \", str(user.statuses_count))\n",
    "    def get_realtions(self,user_id,fo,fr):\n",
    "        df= pd.DataFrame(columns=['from','to','created_at'])\n",
    "        tmplst=[]\n",
    "        x=0\n",
    "        for user in tweepy.Cursor(self.api.followers, screen_name=user_id).items(fo):\n",
    "            if x==270:\n",
    "                print ('[-] Timeout, sleeping for 15 minutes...',len(tmplst))\n",
    "                sleep(15*60)\n",
    "                x=0\n",
    "            clear_output()\n",
    "            tmplst.append({ 'from':user.screen_name,\n",
    "                            'to':user_id,\n",
    "                            'created_at':user.created_at})\n",
    "            print('Followers:',(round(((len(tmplst)/fo)*100),2)),'%')\n",
    "            x=x+1     \n",
    "        \n",
    "        check=len(tmplst)\n",
    "        \n",
    "        print ('followers done sleeping for 15 minutes before friends...',len(tmplst))\n",
    "        \n",
    "        for user in tweepy.Cursor(self.api.friends, screen_name=user_id).items(fr):\n",
    "            if x==270:\n",
    "                x=0\n",
    "            \n",
    "            clear_output()\n",
    "            tmplst.append({ 'from':user_id,\n",
    "                            'to':user.screen_name,\n",
    "                            'created_at':user.created_at})\n",
    "            print('Friends:',(round((((len(tmplst)-check)/fr)*100),2)),'%')\n",
    "            x=x+1   \n",
    "        df= pd.DataFrame(tmplst)\n",
    "        clear_output()\n",
    "        print('Ding!')\n",
    "        return df\n",
    "        \n",
    "    def make_edglst (self,df,name):\n",
    "        print('Working on file creation...')\n",
    "        file = open(name+'.txt',\"w+\") \n",
    "        for index, row in df.iterrows():\n",
    "            string=(row['from']+','+row['to']+','+str(row['created_at']))\n",
    "            file.write(string+'\\n') \n",
    "        file.close()\n",
    "        print('file creation finshed')"
   ]
  },
  {
   "cell_type": "code",
   "execution_count": 6,
   "metadata": {},
   "outputs": [],
   "source": [
    "t=tweets(k)  "
   ]
  },
  {
   "cell_type": "code",
   "execution_count": null,
   "metadata": {},
   "outputs": [
    {
     "name": "stdout",
     "output_type": "stream",
     "text": [
      "Ding!\n",
      "Working on file creation...\n",
      "file creation finshed\n",
      "next loop starts in 15 min\n"
     ]
    }
   ],
   "source": [
    "templist=[]\n",
    "sleep(15*60)\n",
    "for name in Players:\n",
    "    print(name,(round(((len(templist)/len(Players))*100),2)),'%')\n",
    "    tempdf=t.get_realtions(name,1000,40)\n",
    "    t.make_edglst(tempdf,name)\n",
    "    templist.append(tempdf)\n",
    "    print ('next loop starts in 15 min')\n",
    "    sleep(15*60)\n",
    "   \n",
    "    \n"
   ]
  },
  {
   "cell_type": "code",
   "execution_count": 13,
   "metadata": {},
   "outputs": [
    {
     "name": "stdout",
     "output_type": "stream",
     "text": [
      "[('PodcastBitchin', 'GamsuOW', {'Timecreated': '2018-11-17 02:02:26'}), ('GamsuOW', 'FiscusZach', {'Timecreated': '2018-11-15 19:50:51'}), ('GamsuOW', 'sanna_ow', {'Timecreated': '2018-08-22 08:51:33'}), ('GamsuOW', 'WeatherCurse', {'Timecreated': '2012-12-14 22:29:07'}), ('GamsuOW', 'Ow_DeeDee', {'Timecreated': '2018-03-13 19:53:08'})]\n"
     ]
    }
   ],
   "source": [
    "G=nx.read_edgelist(\"GamsuOW.txt\",delimiter=',',data=(('Timecreated',str),))\n",
    "print(list(G.edges(data=True))[0:5])"
   ]
  },
  {
   "cell_type": "code",
   "execution_count": 6,
   "metadata": {},
   "outputs": [],
   "source": [
    "t.make_edglst(df,\"beep.txt\")"
   ]
  },
  {
   "cell_type": "code",
   "execution_count": null,
   "metadata": {},
   "outputs": [],
   "source": []
  }
 ],
 "metadata": {
  "kernelspec": {
   "display_name": "Python 3",
   "language": "python",
   "name": "python3"
  },
  "language_info": {
   "codemirror_mode": {
    "name": "ipython",
    "version": 3
   },
   "file_extension": ".py",
   "mimetype": "text/x-python",
   "name": "python",
   "nbconvert_exporter": "python",
   "pygments_lexer": "ipython3",
   "version": "3.6.5"
  }
 },
 "nbformat": 4,
 "nbformat_minor": 2
}
