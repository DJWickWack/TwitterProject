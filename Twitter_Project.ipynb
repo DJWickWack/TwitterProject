{
 "cells": [
  {
   "cell_type": "code",
   "execution_count": null,
   "metadata": {},
   "outputs": [],
   "source": [
    "import tweepy\n",
    "from datetime import datetime\n",
    "from dateutil.parser import parse\n",
    "from IPython.display import clear_output\n",
    "import json\n",
    "import pandas as pd\n",
    "from time import sleep\n",
    "import datetime\n",
    "import os\n",
    "from textblob import TextBlob\n",
    "import networkx as nx\n",
    "import seaborn as sns\n",
    "import matplotlib.pyplot as plt\n",
    "#import twitter apps configaration file from config.py file\n",
    "from config import keys as k\n",
    "import operator\n",
    "#list of players \n",
    "Players=[\"GamsuOW\",\"STRIKER_OW\",\"blaseOW\",\"aimgod_ow\",\"KellexOW\",\"HarryHook\",\"MickiePP\",\n",
    "        \"DF_aKm\",\"uNKOE\",\"OGE_ow\",\"HAGOPEUN_OW\",\"minon501\",\"MisfitsTviQuE\",\"xepher123\",\n",
    "        \"Apply\",\"Muma\",\"BaniOW\",\"Forceboink\",\"LiNkzrOW\",\"coolmatt69\",\"Birdring\",\"Anamo_ow\",\"tf2pine\",\n",
    "        \"Mano_OWL\",\"Boombox\",\"carpe_ow\",\"snillo_ow\",\"SADO_OW\",\"smurf_ow\",\"moth_ow\",\"Shock_CHB\",\"karivow\",\n",
    "        \"super_OW\",\"KING_BABYBAY\" ,\"BdosinOW\",\"NUS_OW\",\"Furyy_d\",\"Surefour\",\"BischuGG\", \"Shaz_OW\",\"Hydration\",\n",
    "        \"spaceOW\",\"Custa\",\"agilities\",\"Fate_ow\",\"saebyeolbe\",\"MekOppa\"]\n",
    "#list of teams with there cosponding players\n",
    "Teams={ \"Boston Uprising\":[\"GamsuOW\",\"STRIKER_OW\",\"blaseOW\",\"aimgod_ow\",\"KellexOW\"],\n",
    "       \"Dallas Fuel\":[\"HarryHook\",\"MickiePP\",\"DF_aKm\",\"uNKOE\",\"OGE_ow\"],\n",
    "       \"Florida Myham\":[\"HAGOPEUN_OW\",\"minon501\",\"MisfitsTviQuE\",\"xepher123\", \"Apply\"],\n",
    "       \"Outlaws\":[\"Muma\",\"BaniOW\",\"Forceboink\",\"LiNkzrOW\",\"coolmatt69\"],\n",
    "        \"London Spitfire\":[\"Birdring\",\"BdosinOW\",\"NUS_OW\",\"Furyy_d\"],\n",
    "        \"LA Glad\":[\"Surefour\",\"BischuGG\", \"Shaz_OW\",\"Hydration\"],\n",
    "        \"LA Val\":[\"karivow\",\"spaceOW\",\"Custa\",\"agilities\",\"Fate_ow\"],\n",
    "        \"New York Excel\":[\"saebyeolbe\",\"MekOppa\",\"Anamo_ow\",\"tf2pine\",\"Mano_OWL\"],\n",
    "        \"PHILADELPHIA FUSION\":[\"Boombox\",\"carpe_ow\",\"snillo_ow\",\"SADO_OW\"],\n",
    "        \"SAN FRANCISCO SHOCK\":[\"smurf_ow\",\"moth_ow\",\"Shock_CHB\",\"super_OW\",\"KING_BABYBAY\"]}\n"
   ]
  },
  {
   "cell_type": "markdown",
   "metadata": {},
   "source": [
    "### Before running be sure to have your own config.py with keys"
   ]
  },
  {
   "cell_type": "code",
   "execution_count": null,
   "metadata": {},
   "outputs": [],
   "source": [
    "class tweets():\n",
    "    def __init__(self,keys):\n",
    "        #Authentication using keys & accesstoken\n",
    "        auth = tweepy.OAuthHandler(keys.consumer_key, keys.consumer_secret)\n",
    "        auth.set_access_token(keys.access_token, keys.access_token_secret)\n",
    "        self.api = tweepy.API(auth)\n",
    "\n",
    "    def get_realtions(self,user_id,fo,fr):\n",
    "    #Method Gets both followers and friends of a user\n",
    "    #user_id=twitters users name, fo= follower grab limit, fr= Friend grab limit\n",
    "        df= pd.DataFrame(columns=['from','to','created_at'])\n",
    "        tmplst=[]\n",
    "        x=0\n",
    "        for user in tweepy.Cursor(self.api.followers, screen_name=user_id).items(fo):\n",
    "            #Gets users followers using api Stoping every 270 to take a 15 minute break so not to over pull\n",
    "            if x==270:\n",
    "                print ('[-] Timeout, sleeping for 15 minutes...',len(tmplst))\n",
    "                sleep(15*60)\n",
    "                x=0\n",
    "            clear_output()\n",
    "            tmplst.append({ 'from':user.screen_name,\n",
    "                            'to':user_id,\n",
    "                            'created_at':user.created_at})\n",
    "            print('Followers:',(round(((len(tmplst)/fo)*100),2)),'%')# Displays a percent of progress\n",
    "            x=x+1     \n",
    "        \n",
    "        check=len(tmplst)\n",
    "        \n",
    "        print ('followers done sleeping for 15 minutes before friends...',len(tmplst))\n",
    "        \n",
    "        for user in tweepy.Cursor(self.api.friends, screen_name=user_id).items(fr):\n",
    "            #Gets users friends using api Stoping every 270 to take a 15 minute break so not to over pull\n",
    "            if x==270:\n",
    "                x=0\n",
    "            \n",
    "            clear_output()\n",
    "            tmplst.append({ 'from':user_id,\n",
    "                            'to':user.screen_name,\n",
    "                            'created_at':user.created_at})\n",
    "            print('Friends:',(round((((len(tmplst)-check)/fr)*100),2)),'%')# Displays a percent of progress\n",
    "            x=x+1   \n",
    "        df= pd.DataFrame(tmplst)\n",
    "        clear_output()\n",
    "        print('Ding!')\n",
    "        return df\n",
    "        \n",
    "    def make_edglst (self,df,name):\n",
    "    #Method takes dataframe and converts to edgelst in form of User following User Then a realaship date\n",
    "    #df= DataFrame, name= Name of file\n",
    "    #saves as txt\n",
    "        print('Working on file creation...')\n",
    "        file = open(name+'.txt',\"w+\") \n",
    "        for index, row in df.iterrows():\n",
    "            string=(row['from']+','+row['to']+','+str(row['created_at']))\n",
    "            file.write(string+'\\n') \n",
    "        file.close()\n",
    "        print('file creation finshed')\n",
    "    \n",
    "    def common_follower(self,g):\n",
    "    #Method To find followers that follow more than one player\n",
    "    #g= graph\n",
    "    #Checks followers out degree \n",
    "        templst=[]\n",
    "        for node in g.nodes:\n",
    "            if node != (Players):\n",
    "                if g.out_degree(node)>=2:\n",
    "                    templst.append({node})\n",
    "        return templst\n",
    "    \n",
    "    def popteam(self, G):\n",
    "    #Method Finds most popular team\n",
    "    #G= graph\n",
    "        dic={}\n",
    "        \n",
    "        for team in Teams:\n",
    "            comp=0\n",
    "            for player in Teams[team]:\n",
    "                if len(list(G.predecessors(player)))>comp:\n",
    "                    dic.update({team:player})\n",
    "                    comp=len(list(G.predecessors(player)))\n",
    "        return dic\n",
    "    def info (self,g):\n",
    "        bet=nx.betweenness_centrality(g)\n",
    "        clos=nx.closeness_centrality(g)\n",
    "        pager=nx.pagerank(g,alpha=0.9)\n",
    "        degc=dict(g.in_degree)\n",
    "        dego=dict(g.out_degree)\n",
    "        cenmes={\n",
    "        'in degree':degc,\n",
    "        'out degree':dego,\n",
    "        'betweenness':bet,\n",
    "        'close':clos,\n",
    "        'page_rank':pager    \n",
    "        }\n",
    "        centrality=pd.DataFrame(cenmes)\n",
    "        centrality\n",
    "        sns.pairplot(centrality)\n",
    "    def follower_timeplot(self,g,node):\n",
    "    #Method graphs a player followercount over time by looking at the created at date of each follower\n",
    "    #g= Graph, node= Node with followers for time plot\n",
    "        dic={node: list(g.predecessors(node))}\n",
    "        lst=[]\n",
    "        D={}\n",
    "        benchMark = datetime.datetime.strptime('2017-01-01', \"%Y-%m-%d\") \n",
    "        for item in dic[node]:\n",
    "            lst.append(g[item][node]['Timecreated'])\n",
    "        D = {x:lst.count(x) for x in lst}\n",
    "        for item in lst:\n",
    "            if item<benchMark:\n",
    "                lst.remove(item)\n",
    "        df= pd.Series(D, name='DateValue')\n",
    "        df.index.name = 'Date'\n",
    "        df.columns=['cnt'] \n",
    "        df.reset_index()\n",
    "        #df=df[(df['Date'] > '2017-01-01') & (df['Date'] < '2018-02-01')]\n",
    "        #print (df.dtypes)\n",
    "        df=df.loc[df.index > '2018-01-01']\n",
    "        df.plot(figsize=(10,4),kind='line',title=\" Follower graph\")\n",
    "\n",
    "    def find_most_popular_player(self,G):\n",
    "        #Method Finds most poplular player\n",
    "        #G= Graph\n",
    "        cat=dict(G.out_degree)\n",
    "        mostPopular=max(cat.items(), key=operator.itemgetter(1))[0]\n",
    "        return mostPopular"
   ]
  },
  {
   "cell_type": "code",
   "execution_count": null,
   "metadata": {},
   "outputs": [],
   "source": [
    "t=tweets(k)  "
   ]
  },
  {
   "cell_type": "markdown",
   "metadata": {},
   "source": [
    " "
   ]
  },
  {
   "cell_type": "markdown",
   "metadata": {},
   "source": [
    " "
   ]
  },
  {
   "cell_type": "markdown",
   "metadata": {},
   "source": [
    "### <b>------DO NOT RUN------</b>"
   ]
  },
  {
   "cell_type": "markdown",
   "metadata": {},
   "source": [
    "# If ran it will pull data till completion if it is stoped a kernel restart is required \n",
    "## <b> ONLY USE IF DATA IS NEEDED</b>\n"
   ]
  },
  {
   "cell_type": "code",
   "execution_count": null,
   "metadata": {},
   "outputs": [],
   "source": [
    "templist=[]\n",
    "for name in Players:#this grabs data \n",
    "    print(name,(round(((len(templist)/len(Players))*100),2)),'%')\n",
    "    tempdf=t.get_realtions(name,1000,40)\n",
    "    t.make_edglst(tempdf,name)\n",
    "    templist.append(tempdf)\n",
    "    print ('next loop starts in 15 min')\n",
    "    sleep(15*60)   "
   ]
  },
  {
   "cell_type": "code",
   "execution_count": null,
   "metadata": {},
   "outputs": [],
   "source": [
    "G=nx.read_edgelist(\"combg.txt\",delimiter=',', create_using=nx.DiGraph() , data=(('Timecreated',str),))#making the graph\n",
    "for edge in G.edges:# this is to get rid of hr min sec and just leave the day\n",
    "    x,y=edge\n",
    "    G[x][y]['Timecreated']=datetime.datetime.strptime(G[x][y]['Timecreated'][:-9], '%Y-%m-%d')\n",
    "#G.in_degree\n",
    "#g.nodes()\n",
    "nx.info(G)\n",
    "\n"
   ]
  },
  {
   "cell_type": "code",
   "execution_count": null,
   "metadata": {},
   "outputs": [],
   "source": [
    "nx.is_connected(G.to_undirected())"
   ]
  },
  {
   "cell_type": "code",
   "execution_count": null,
   "metadata": {},
   "outputs": [],
   "source": [
    "t.follower_timeplot(G,\"STRIKER_OW\")#where the graph is made"
   ]
  },
  {
   "cell_type": "code",
   "execution_count": null,
   "metadata": {},
   "outputs": [],
   "source": [
    "print(t.common_follower(G)[:100])\n",
    "print(\"amount of common followers: \",len(t.common_follower(G)))"
   ]
  },
  {
   "cell_type": "code",
   "execution_count": null,
   "metadata": {},
   "outputs": [],
   "source": [
    "t.popteam(G)"
   ]
  },
  {
   "cell_type": "code",
   "execution_count": null,
   "metadata": {},
   "outputs": [],
   "source": [
    "t.find_most_popular_player(G)"
   ]
  },
  {
   "cell_type": "code",
   "execution_count": null,
   "metadata": {},
   "outputs": [],
   "source": []
  },
  {
   "cell_type": "code",
   "execution_count": null,
   "metadata": {},
   "outputs": [],
   "source": []
  }
 ],
 "metadata": {
  "kernelspec": {
   "display_name": "Python 3",
   "language": "python",
   "name": "python3"
  },
  "language_info": {
   "codemirror_mode": {
    "name": "ipython",
    "version": 3
   },
   "file_extension": ".py",
   "mimetype": "text/x-python",
   "name": "python",
   "nbconvert_exporter": "python",
   "pygments_lexer": "ipython3",
   "version": "3.6.5"
  }
 },
 "nbformat": 4,
 "nbformat_minor": 2
}
