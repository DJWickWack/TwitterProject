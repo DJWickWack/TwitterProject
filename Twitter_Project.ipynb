{
 "cells": [
  {
   "cell_type": "code",
   "execution_count": 1,
   "metadata": {},
   "outputs": [
    {
     "name": "stdout",
     "output_type": "stream",
     "text": [
      "47\n"
     ]
    }
   ],
   "source": [
    "import tweepy\n",
    "from datetime import datetime\n",
    "from dateutil.parser import parse\n",
    "from IPython.display import clear_output\n",
    "import json\n",
    "import pandas as pd\n",
    "from time import sleep\n",
    "import datetime\n",
    "import os\n",
    "from textblob import TextBlob\n",
    "import networkx as nx\n",
    "import seaborn as sns\n",
    "import matplotlib.pyplot as plt\n",
    "#import twitter apps configaration file from config.py file\n",
    "from config import keys as k\n",
    "import operator\n",
    "\n",
    "Players=[\"GamsuOW\",\"STRIKER_OW\",\"blaseOW\",\"aimgod_ow\",\"KellexOW\",\"HarryHook\",\"MickiePP\",\n",
    "        \"DF_aKm\",\"uNKOE\",\"OGE_ow\",\"HAGOPEUN_OW\",\"minon501\",\"MisfitsTviQuE\",\"xepher123\",\n",
    "        \"Apply\",\"Muma\",\"BaniOW\",\"Forceboink\",\"LiNkzrOW\",\"coolmatt69\",\"Birdring\",\"Anamo_ow\",\"tf2pine\",\n",
    "        \"Mano_OWL\",\"Boombox\",\"carpe_ow\",\"snillo_ow\",\"SADO_OW\",\"smurf_ow\",\"moth_ow\",\"Shock_CHB\",\"karivow\",\n",
    "        \"super_OW\",\"KING_BABYBAY\" ,\"BdosinOW\",\"NUS_OW\",\"Furyy_d\",\"Surefour\",\"BischuGG\", \"Shaz_OW\",\"Hydration\",\n",
    "        \"spaceOW\",\"Custa\",\"agilities\",\"Fate_ow\",\"saebyeolbe\",\"MekOppa\"]\n",
    "print(len(Players))\n",
    "Teams={ \"Boston Uprising\":[\"GamsuOW\",\"STRIKER_OW\",\"blaseOW\",\"aimgod_ow\",\"KellexOW\"],\n",
    "       \"Dallas Fuel\":[\"HarryHook\",\"MickiePP\",\"DF_aKm\",\"uNKOE\",\"OGE_ow\"],\n",
    "       \"Florida Myham\":[\"HAGOPEUN_OW\",\"minon501\",\"MisfitsTviQuE\",\"xepher123\", \"Apply\"],\n",
    "       \"Outlaws\":[\"Muma\",\"BaniOW\",\"Forceboink\",\"LiNkzrOW\",\"coolmatt69\"],\n",
    "        \"London Spitfire\":[\"Birdring\",\"BdosinOW\",\"NUS_OW\",\"Furyy_d\"],\n",
    "        \"LA Glad\":[\"Surefour\",\"BischuGG\", \"Shaz_OW\",\"Hydration\"],\n",
    "        \"LA Val\":[\"karivow\",\"spaceOW\",\"Custa\",\"agilities\",\"Fate_ow\"],\n",
    "        \"New York Excel\":[\"saebyeolbe\",\"MekOppa\",\"Anamo_ow\",\"tf2pine\",\"Mano_OWL\"],\n",
    "        \"PHILADELPHIA FUSION\":[\"Boombox\",\"carpe_ow\",\"snillo_ow\",\"SADO_OW\"],\n",
    "        \"SAN FRANCISCO SHOCK\":[\"smurf_ow\",\"moth_ow\",\"Shock_CHB\",\"super_OW\",\"KING_BABYBAY\"]}\n"
   ]
  },
  {
   "cell_type": "code",
   "execution_count": 42,
   "metadata": {},
   "outputs": [],
   "source": [
    "class tweets():\n",
    "    def __init__(self,keys):\n",
    "        #Authentication using keys & accesstoken\n",
    "        auth = tweepy.OAuthHandler(keys.consumer_key, keys.consumer_secret)\n",
    "        auth.set_access_token(keys.access_token, keys.access_token_secret)\n",
    "        self.api = tweepy.API(auth)\n",
    "    def get_info_about_user(self,user_name):\n",
    "        #Donal Trump Twitter account\n",
    "        user = self.api.get_user(user_name)\n",
    "        print(\"Name:\", user.name)\n",
    "        print(\"User id: \", user.id_str)\n",
    "        print(\"Description: \", user.description)\n",
    "        print(\"Location:\",user.location)\n",
    "        print(\"Time zone: \", user.time_zone)\n",
    "        print(\"Number of Following:\",user.friends_count)\n",
    "        print(\"Number of Followers:\",user.followers_count)\n",
    "        print(\"Number of tweets: \", str(user.statuses_count))\n",
    "    def get_realtions(self,user_id,fo,fr):\n",
    "        df= pd.DataFrame(columns=['from','to','created_at'])\n",
    "        tmplst=[]\n",
    "        x=0\n",
    "        for user in tweepy.Cursor(self.api.followers, screen_name=user_id).items(fo):\n",
    "            if x==270:\n",
    "                print ('[-] Timeout, sleeping for 15 minutes...',len(tmplst))\n",
    "                sleep(15*60)\n",
    "                x=0\n",
    "            clear_output()\n",
    "            tmplst.append({ 'from':user.screen_name,\n",
    "                            'to':user_id,\n",
    "                            'created_at':user.created_at})\n",
    "            print('Followers:',(round(((len(tmplst)/fo)*100),2)),'%')\n",
    "            x=x+1     \n",
    "        \n",
    "        check=len(tmplst)\n",
    "        \n",
    "        print ('followers done sleeping for 15 minutes before friends...',len(tmplst))\n",
    "        \n",
    "        for user in tweepy.Cursor(self.api.friends, screen_name=user_id).items(fr):\n",
    "            if x==270:\n",
    "                x=0\n",
    "            \n",
    "            clear_output()\n",
    "            tmplst.append({ 'from':user_id,\n",
    "                            'to':user.screen_name,\n",
    "                            'created_at':user.created_at})\n",
    "            print('Friends:',(round((((len(tmplst)-check)/fr)*100),2)),'%')\n",
    "            x=x+1   \n",
    "        df= pd.DataFrame(tmplst)\n",
    "        clear_output()\n",
    "        print('Ding!')\n",
    "        return df\n",
    "        \n",
    "    def make_edglst (self,df,name):\n",
    "        print('Working on file creation...')\n",
    "        file = open(name+'.txt',\"w+\") \n",
    "        for index, row in df.iterrows():\n",
    "            string=(row['from']+','+row['to']+','+str(row['created_at']))\n",
    "            file.write(string+'\\n') \n",
    "        file.close()\n",
    "        print('file creation finshed')\n",
    "    def common_follower(self,g):\n",
    "        templst=[]\n",
    "        for node in g.nodes:\n",
    "            if node != (Players):\n",
    "                if g.out_degree(node)>=2:\n",
    "                    templst.append({node})\n",
    "        return templst\n",
    "    def popteam(self, G):\n",
    "        dic={}\n",
    "        \n",
    "        for team in Teams:\n",
    "            comp=0\n",
    "            for player in Teams[team]:\n",
    "                if len(list(G.predecessors(player)))>comp:\n",
    "                    dic.update({team:player})\n",
    "                    comp=len(list(G.predecessors(player)))\n",
    "        return dic\n",
    "    def info (self,g):\n",
    "        bet=nx.betweenness_centrality(g)\n",
    "        clos=nx.closeness_centrality(g)\n",
    "        pager=nx.pagerank(g,alpha=0.9)\n",
    "        degc=dict(g.in_degree)\n",
    "        dego=dict(g.out_degree)\n",
    "        cenmes={\n",
    "        'in degree':degc,\n",
    "        'out degree':dego,\n",
    "        'betweenness':bet,\n",
    "        'close':clos,\n",
    "        'page_rank':pager    \n",
    "        }\n",
    "        centrality=pd.DataFrame(cenmes)\n",
    "        centrality\n",
    "        sns.pairplot(centrality)\n",
    "    def follower_timeplot(self,g,node):\n",
    "        dic={node: list(g.predecessors(node))}\n",
    "        lst=[]\n",
    "        D={}\n",
    "        benchMark = datetime.datetime.strptime('2017-01-01', \"%Y-%m-%d\") \n",
    "        for item in dic[node]:\n",
    "            lst.append(g[item][node]['Timecreated'])\n",
    "        D = {x:lst.count(x) for x in lst}\n",
    "        for item in lst:\n",
    "            if item<benchMark:\n",
    "                lst.remove(item)\n",
    "        df= pd.Series(D, name='DateValue')\n",
    "        df.index.name = 'Date'\n",
    "        df.columns=['cnt'] \n",
    "        df.reset_index()\n",
    "        #df=df[(df['Date'] > '2017-01-01') & (df['Date'] < '2018-02-01')]\n",
    "        #print (df.dtypes)\n",
    "        df=df.loc[df.index > '2018-01-01']\n",
    "        df.plot(figsize=(10,4),kind='line',title=\" Follower graph\")\n",
    "\n",
    "    def find_most_popular_player(self,G):\n",
    "        cat=dict(G.out_degree)\n",
    "        mostPopular=max(cat.items(), key=operator.itemgetter(1))[0]\n",
    "        return mostPopular"
   ]
  },
  {
   "cell_type": "code",
   "execution_count": 43,
   "metadata": {},
   "outputs": [],
   "source": [
    "t=tweets(k)  "
   ]
  },
  {
   "cell_type": "code",
   "execution_count": null,
   "metadata": {},
   "outputs": [
    {
     "name": "stdout",
     "output_type": "stream",
     "text": [
      "Followers: 27.0 %\n",
      "[-] Timeout, sleeping for 15 minutes... 270\n"
     ]
    }
   ],
   "source": [
    "templist=[]#this grabs data do not run unless need data\n",
    "for name in Players:\n",
    "    print(name,(round(((len(templist)/len(Players))*100),2)),'%')\n",
    "    tempdf=t.get_realtions(name,1000,40)\n",
    "    t.make_edglst(tempdf,name)\n",
    "    templist.append(tempdf)\n",
    "    print ('next loop starts in 15 min')\n",
    "    sleep(15*60)\n",
    "   \n",
    "    \n"
   ]
  },
  {
   "cell_type": "code",
   "execution_count": 37,
   "metadata": {},
   "outputs": [
    {
     "data": {
      "text/plain": [
       "'Name: \\nType: DiGraph\\nNumber of nodes: 20130\\nNumber of edges: 47775\\nAverage in degree:   2.3733\\nAverage out degree:   2.3733'"
      ]
     },
     "execution_count": 37,
     "metadata": {},
     "output_type": "execute_result"
    }
   ],
   "source": [
    "G=nx.read_edgelist(\"combg.txt\",delimiter=',', create_using=nx.DiGraph() , data=(('Timecreated',str),))#making the graph\n",
    "for edge in G.edges:# this is to get rid of hr min sec and just leave the day\n",
    "    x,y=edge\n",
    "    G[x][y]['Timecreated']=datetime.datetime.strptime(G[x][y]['Timecreated'][:-9], '%Y-%m-%d')\n",
    "#G.in_degree\n",
    "#g.nodes()\n",
    "nx.info(G)\n",
    "\n"
   ]
  },
  {
   "cell_type": "code",
   "execution_count": 16,
   "metadata": {},
   "outputs": [
    {
     "data": {
      "text/plain": [
       "True"
      ]
     },
     "execution_count": 16,
     "metadata": {},
     "output_type": "execute_result"
    }
   ],
   "source": [
    "nx.is_connected(G.to_undirected())"
   ]
  },
  {
   "cell_type": "code",
   "execution_count": 35,
   "metadata": {},
   "outputs": [
    {
     "data": {
      "image/png": "[encoded data removed]",
      "text/plain": [
       "<Figure size 720x288 with 1 Axes>"
      ]
     },
     "metadata": {},
     "output_type": "display_data"
    }
   ],
   "source": [
    "t.follower_timeplot(G,\"STRIKER_OW\")#where the graph is made"
   ]
  },
  {
   "cell_type": "code",
   "execution_count": 7,
   "metadata": {},
   "outputs": [
    {
     "name": "stdout",
     "output_type": "stream",
     "text": [
      "[{'friydis'}, {'Hydration'}, {'Rainseoked'}, {'Kydronic'}, {'onqyu'}, {'ver369pi'}, {'sneakythiefer'}, {'TheBuckyBear'}, {'satirant'}, {'Cuhtzy'}, {'jvnie'}, {'Ceiaaaaa'}, {'Guster0245'}, {'livingd77167445'}, {'regan_789'}, {'BenQc_'}, {'Atomme1T'}, {'Brostein3'}, {'tricitylegal'}, {'alhanadelrey'}, {'99mehul'}, {'Contenders_OW'}, {'yapyapthedestr1'}, {'Folabi81431934'}, {'uhh_mae'}, {'G0DHIMSELF_'}, {'ephemehral'}, {'cjmy8'}, {'NootNoot_OW'}, {'winter__ow'}, {'Thanos_OW'}, {'foggo_'}, {'do_n4n'}, {'woeman7'}, {'Daevidx'}, {'rianowx'}, {'kusozakotroll'}, {'ackhlys'}, {'McFireFlyOW'}, {'FarBeyondNick'}, {'StefanGarofalo'}, {'JerG_San'}, {'MxPhoKing'}, {'_bluering_'}, {'Ian23343072'}, {'_Naxt_'}, {'EclipseOwlVGC'}, {'IsmailChina2'}, {'gambino_rino'}, {'Solar50628559'}, {'RTheo46'}, {'SneakyUmbra2'}, {'RhysGri29422678'}, {'ItsMrsRobot'}, {'crisbritos95'}, {'55Bluefirefox'}, {'ComodoMc'}, {'Sam50091326'}, {'itsonyxlol'}, {'jacobwood271'}, {'chlomason_x'}, {'Golden_nuggett'}, {'aotterbekk'}, {'boo_ohh'}, {'eugenef88997191'}, {'OWRyusekai'}, {'NoobAtLifexd'}, {'bratt_adam'}, {'JaylenL6'}, {'Calverys_OW'}, {'gell0us'}, {'TonyAnd84899377'}, {'PerronCedric'}, {'mousrat69'}, {'Eklipse_YT'}, {'BlueFlaree'}, {'LucasCowley1'}, {'Unknown72643755'}, {'Louis85008680'}, {'Unknown61684424'}, {'a_eirik'}, {'OwOwOw77175132'}, {'YSuga73'}, {'naji_TV'}, {'Maria784o'}, {'realjeremyeckl'}, {'Mango_MGM'}, {'Roberto80829960'}, {'chen_edric'}, {'CarbonOw'}, {'Xi_143'}, {'Brucey_Boi'}, {'Nakama_OW'}, {'NoahPussy'}, {'blakebreitfield'}, {'Em0_Matt'}, {'Auddi10'}, {'jacobofloors'}, {'BMerches10'}, {'C00p3er_5imm0n5'}]\n",
      "amount of common followers:  7976\n"
     ]
    }
   ],
   "source": [
    "print(t.common_follower(G)[:100])\n",
    "print(\"amount of common followers: \",len(t.common_follower(G)))"
   ]
  },
  {
   "cell_type": "code",
   "execution_count": 27,
   "metadata": {},
   "outputs": [
    {
     "data": {
      "text/plain": [
       "{'Boston Uprising': 'STRIKER_OW',\n",
       " 'Dallas Fuel': 'DF_aKm',\n",
       " 'Florida Myham': 'HAGOPEUN_OW',\n",
       " 'Outlaws': 'LiNkzrOW',\n",
       " 'London Spitfire': 'Birdring',\n",
       " 'LA Glad': 'Hydration',\n",
       " 'LA Val': 'Fate_ow',\n",
       " 'New York Excel': 'saebyeolbe',\n",
       " 'PHILADELPHIA FUSION': 'snillo_ow',\n",
       " 'SAN FRANCISCO SHOCK': 'smurf_ow'}"
      ]
     },
     "execution_count": 27,
     "metadata": {},
     "output_type": "execute_result"
    }
   ],
   "source": [
    "t.popteam(G)"
   ]
  },
  {
   "cell_type": "code",
   "execution_count": 45,
   "metadata": {},
   "outputs": [
    {
     "data": {
      "text/plain": [
       "'Apply'"
      ]
     },
     "execution_count": 45,
     "metadata": {},
     "output_type": "execute_result"
    }
   ],
   "source": [
    "t.find_most_popular_player(G)"
   ]
  },
  {
   "cell_type": "code",
   "execution_count": null,
   "metadata": {},
   "outputs": [],
   "source": []
  },
  {
   "cell_type": "code",
   "execution_count": null,
   "metadata": {},
   "outputs": [],
   "source": []
  }
 ],
 "metadata": {
  "kernelspec": {
   "display_name": "Python 3",
   "language": "python",
   "name": "python3"
  },
  "language_info": {
   "codemirror_mode": {
    "name": "ipython",
    "version": 3
   },
   "file_extension": ".py",
   "mimetype": "text/x-python",
   "name": "python",
   "nbconvert_exporter": "python",
   "pygments_lexer": "ipython3",
   "version": "3.6.5"
  }
 },
 "nbformat": 4,
 "nbformat_minor": 2
}
