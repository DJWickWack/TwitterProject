{
 "cells": [
  {
   "cell_type": "code",
   "execution_count": 1,
   "metadata": {},
   "outputs": [],
   "source": [
    "import tweepy\n",
    "import json\n",
    "import pandas as pd\n",
    "from time import sleep\n",
    "import datetime\n",
    "import os\n",
    "from textblob import TextBlob\n",
    "#import twitter apps configaration file from config.py file\n",
    "from config import keys as k"
   ]
  },
  {
   "cell_type": "code",
   "execution_count": 14,
   "metadata": {},
   "outputs": [],
   "source": [
    "class tweets():\n",
    "    def __init__(self,keys):\n",
    "        #Authentication using keys & accesstoken\n",
    "        auth = tweepy.OAuthHandler(keys.consumer_key, keys.consumer_secret)\n",
    "        auth.set_access_token(keys.access_token, keys.access_token_secret)\n",
    "        self.api = tweepy.API(auth)\n",
    "    def get_info_about_user(self,user_name):\n",
    "        #Donal Trump Twitter account\n",
    "        user = self.api.get_user(user_name)\n",
    "        print(\"Name:\", user.name)\n",
    "        print(\"User id: \", user.id_str)\n",
    "        print(\"Description: \", user.description)\n",
    "        print(\"Location:\",user.location)\n",
    "        print(\"Time zone: \", user.time_zone)\n",
    "        print(\"Number of Following:\",user.friends_count)\n",
    "        print(\"Number of Followers:\",user.followers_count)\n",
    "        print(\"Number of tweets: \", str(user.statuses_count))\n",
    "    def get_followers(self,user_id):\n",
    "        for user in tweepy.Cursor(self.api.followers, screen_name=user_id).items():\n",
    "            print (user.screen_name)"
   ]
  },
  {
   "cell_type": "code",
   "execution_count": 16,
   "metadata": {},
   "outputs": [
    {
     "name": "stdout",
     "output_type": "stream",
     "text": [
      "_massgenie\n",
      "GustoDeals\n",
      "DontPayFull\n",
      "WooletCo\n",
      "Yipsfamily\n",
      "karisma26028345\n",
      "DebbySoares2\n",
      "alexphamttran\n",
      "Uttambavarva\n",
      "evora_jonathan\n",
      "BrunoCr9889\n",
      "xgsoriano\n",
      "gaberz617\n",
      "KamaraSamiel\n",
      "thekimbaa\n",
      "monicamlynch\n",
      "bontempovy\n",
      "saputrangga_j\n",
      "eljev09\n",
      "taylortoochinki\n",
      "Elvisbarros8\n",
      "victormls58\n",
      "EidynesBarros\n",
      "IaOfortes\n",
      "Nayala35\n",
      "funfacts_foryou\n",
      "me_vs_world2\n",
      "John78376115\n",
      "djess2149\n",
      "heliane_vieira\n",
      "stokeskid_\n",
      "reywolf9\n",
      "ty_mosley13\n",
      "PartheniaKomula\n",
      "Wappkonjorge\n",
      "YariMendez25\n",
      "AndreEmanuel_\n",
      "Its_The_MIC\n",
      "AiltonCeaser\n",
      "Ali_Milbry\n",
      "JnoteBulletz\n",
      "Yeggsy\n",
      "WillTitus\n",
      "poshman_\n",
      "GetsNoPlay69\n",
      "None\n"
     ]
    }
   ],
   "source": [
    "t=tweets(k)\n",
    "# tweepy.API.followers?\n",
    "# print (t.get_info_about_user('emers0n_m'))\n",
    "print(t.get_followers('emers0n_m'))"
   ]
  },
  {
   "cell_type": "code",
   "execution_count": null,
   "metadata": {},
   "outputs": [],
   "source": []
  }
 ],
 "metadata": {
  "kernelspec": {
   "display_name": "Python 3",
   "language": "python",
   "name": "python3"
  },
  "language_info": {
   "codemirror_mode": {
    "name": "ipython",
    "version": 3
   },
   "file_extension": ".py",
   "mimetype": "text/x-python",
   "name": "python",
   "nbconvert_exporter": "python",
   "pygments_lexer": "ipython3",
   "version": "3.6.5"
  }
 },
 "nbformat": 4,
 "nbformat_minor": 2
}
