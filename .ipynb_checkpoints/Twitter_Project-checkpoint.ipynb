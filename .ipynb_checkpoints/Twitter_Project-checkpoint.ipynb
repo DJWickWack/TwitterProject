{
 "cells": [
  {
   "cell_type": "code",
   "execution_count": 2,
   "metadata": {},
   "outputs": [
    {
     "data": {
      "text/plain": [
       "{'day': 'Friday'}"
      ]
     },
     "execution_count": 2,
     "metadata": {},
     "output_type": "execute_result"
    }
   ],
   "source": [
    "import networkx as nx \n",
    "\n",
    "G = nx.Graph(day=\"Friday\")\n",
    "G.graph"
   ]
  },
  {
   "cell_type": "code",
   "execution_count": 4,
   "metadata": {},
   "outputs": [
    {
     "data": {
      "text/plain": [
       "{'day': 'Monday'}"
      ]
     },
     "execution_count": 4,
     "metadata": {},
     "output_type": "execute_result"
    }
   ],
   "source": [
    "### Modifiying the value using the key parameter\n",
    "G.graph['day'] = \"Monday\"\n",
    "G.graph"
   ]
  },
  {
   "cell_type": "code",
   "execution_count": 5,
   "metadata": {},
   "outputs": [
    {
     "name": "stdout",
     "output_type": "stream",
     "text": [
      "[('S', 'F'), ('F', 'K'), ('A', 'B'), ('B', 'C'), ('X', 'Y'), ('Y', 'Z')]\n"
     ]
    }
   ],
   "source": [
    "G=nx.Graph()\n",
    "G.add_edge('S','F', weight = 5, relation= 'coworker')\n",
    "G.add_edge('F','K', weight = 2, relation= 'friend')\n",
    "\n",
    "G.add_edges_from([('A','B'),('B', 'C')],relation='family')\n",
    "G.add_edges_from([('X','Y',{'relation': 'friend'}),('Y','Z', {'relation': 'coworker', 'weight': 8})])\n",
    "G['X']['Y']['weight'] = 4.7\n",
    "G.edges[\"A\",\"B\"]['weight'] = 4.2\n",
    "G.edges[\"B\",\"C\"]['weight'] = 2.2\n",
    "\n",
    "print(G.edges())"
   ]
  },
  {
   "cell_type": "code",
   "execution_count": 7,
   "metadata": {},
   "outputs": [
    {
     "name": "stdout",
     "output_type": "stream",
     "text": [
      "[('S', 'F', {'weight': 5, 'relation': 'coworker'}), ('F', 'K', {'weight': 2, 'relation': 'friend'}), ('A', 'B', {'relation': 'family', 'weight': 4.2}), ('B', 'C', {'relation': 'family', 'weight': 2.2}), ('X', 'Y', {'relation': 'friend', 'weight': 4.7}), ('Y', 'Z', {'relation': 'coworker', 'weight': 8})]\n"
     ]
    }
   ],
   "source": [
    "# list of all edges with attributes\n",
    "print(G.edges(data= True))"
   ]
  },
  {
   "cell_type": "code",
   "execution_count": 8,
   "metadata": {},
   "outputs": [
    {
     "data": {
      "text/plain": [
       "EdgeDataView([('S', 'F', 'coworker'), ('F', 'K', 'friend'), ('A', 'B', 'family'), ('B', 'C', 'family'), ('X', 'Y', 'friend'), ('Y', 'Z', 'coworker')])"
      ]
     },
     "execution_count": 8,
     "metadata": {},
     "output_type": "execute_result"
    }
   ],
   "source": [
    "#list of all edges with attribute 'relation'\n",
    "G.edges(data='relation')"
   ]
  },
  {
   "cell_type": "code",
   "execution_count": 9,
   "metadata": {},
   "outputs": [
    {
     "data": {
      "text/plain": [
       "EdgeDataView([('S', 'F', 5), ('F', 'K', 2), ('A', 'B', 4.2), ('B', 'C', 2.2), ('X', 'Y', 4.7), ('Y', 'Z', 8)])"
      ]
     },
     "execution_count": 9,
     "metadata": {},
     "output_type": "execute_result"
    }
   ],
   "source": [
    "#list of all edges with attribute 'weight'\n",
    "G.edges(data='weight')"
   ]
  },
  {
   "cell_type": "code",
   "execution_count": 10,
   "metadata": {},
   "outputs": [
    {
     "data": {
      "text/plain": [
       "{'weight': 5, 'relation': 'coworker'}"
      ]
     },
     "execution_count": 10,
     "metadata": {},
     "output_type": "execute_result"
    }
   ],
   "source": [
    "#Dictionary of attributes of edge('S','F')\n",
    "G.edges['S','F']"
   ]
  },
  {
   "cell_type": "code",
   "execution_count": 11,
   "metadata": {},
   "outputs": [
    {
     "data": {
      "text/plain": [
       "10"
      ]
     },
     "execution_count": 11,
     "metadata": {},
     "output_type": "execute_result"
    }
   ],
   "source": [
    "#Change weight value of edge ('S','F')\n",
    "G.edges['S','F']['weight'] = 10\n",
    "G.edges['S','F']['weight']"
   ]
  },
  {
   "cell_type": "code",
   "execution_count": 12,
   "metadata": {},
   "outputs": [
    {
     "data": {
      "text/plain": [
       "10"
      ]
     },
     "execution_count": 12,
     "metadata": {},
     "output_type": "execute_result"
    }
   ],
   "source": [
    "#undirected graph order doesn't matter\n",
    "G.edges['F','S']['weight']"
   ]
  },
  {
   "cell_type": "code",
   "execution_count": 13,
   "metadata": {},
   "outputs": [
    {
     "data": {
      "text/plain": [
       "{('S', 'F'): 2.0,\n",
       " ('F', 'K'): 2.0,\n",
       " ('A', 'B'): 2.0,\n",
       " ('B', 'C'): 2.0,\n",
       " ('X', 'Y'): 2.0,\n",
       " ('Y', 'Z'): 2.0}"
      ]
     },
     "execution_count": 13,
     "metadata": {},
     "output_type": "execute_result"
    }
   ],
   "source": [
    "bb = nx.edge_betweenness_centrality(G, normalized=False)\n",
    "bb"
   ]
  },
  {
   "cell_type": "code",
   "execution_count": 14,
   "metadata": {},
   "outputs": [
    {
     "data": {
      "text/plain": [
       "2.0"
      ]
     },
     "execution_count": 14,
     "metadata": {},
     "output_type": "execute_result"
    }
   ],
   "source": [
    "nx.set_edge_attributes(G,bb,'betweenness')\n",
    "G['A']['B']['betweenness']"
   ]
  },
  {
   "cell_type": "code",
   "execution_count": 15,
   "metadata": {},
   "outputs": [
    {
     "name": "stdout",
     "output_type": "stream",
     "text": [
      "S F {'weight': 10, 'relation': 'coworker', 'betweenness': 2.0}\n",
      "F K {'weight': 2, 'relation': 'friend', 'betweenness': 2.0}\n",
      "A B {'relation': 'family', 'weight': 4.2, 'betweenness': 2.0}\n",
      "B C {'relation': 'family', 'weight': 2.2, 'betweenness': 2.0}\n",
      "X Y {'relation': 'friend', 'weight': 4.7, 'betweenness': 2.0}\n",
      "Y Z {'relation': 'coworker', 'weight': 8, 'betweenness': 2.0}\n"
     ]
    }
   ],
   "source": [
    "for u,v, data in G.edges(data=True):\n",
    "    print(u,v, data)"
   ]
  },
  {
   "cell_type": "code",
   "execution_count": 16,
   "metadata": {},
   "outputs": [
    {
     "name": "stdout",
     "output_type": "stream",
     "text": [
      "[('S', 'F', None), ('F', 'K', 2.0), ('A', 'B', 2.0), ('B', 'C', 2.0), ('X', 'Y', 2.0), ('Y', 'Z', 2.0)]\n"
     ]
    }
   ],
   "source": [
    "del G['S']['F']['betweenness']\n",
    "print (G.edges(data= 'betweenness'))"
   ]
  },
  {
   "cell_type": "code",
   "execution_count": 17,
   "metadata": {},
   "outputs": [
    {
     "name": "stdout",
     "output_type": "stream",
     "text": [
      "Not exist\n"
     ]
    }
   ],
   "source": [
    "for u, v, data in G.edges(data=True):\n",
    "    #check if edge's attribute exists\n",
    "    if 'betweenness' in G[u][v]:\n",
    "        del G[u][v]['betweenness']\n",
    "    else:\n",
    "        print ('Not exist')"
   ]
  },
  {
   "cell_type": "code",
   "execution_count": 18,
   "metadata": {},
   "outputs": [
    {
     "name": "stdout",
     "output_type": "stream",
     "text": [
      "[('S', 'F', {'weight': 10, 'relation': 'coworker'}), ('F', 'K', {'weight': 2, 'relation': 'friend'}), ('A', 'B', {'relation': 'family', 'weight': 4.2}), ('B', 'C', {'relation': 'family', 'weight': 2.2}), ('X', 'Y', {'relation': 'friend', 'weight': 4.7}), ('Y', 'Z', {'relation': 'coworker', 'weight': 8})]\n"
     ]
    }
   ],
   "source": [
    "#list of all edges with attributes\n",
    "print(G.edges(data= True))"
   ]
  },
  {
   "cell_type": "code",
   "execution_count": 19,
   "metadata": {},
   "outputs": [
    {
     "data": {
      "text/plain": [
       "AtlasView({0: {'weight': 2, 'relation': 'family'}, 1: {'weight': 4, 'relation': 'friend'}})"
      ]
     },
     "execution_count": 19,
     "metadata": {},
     "output_type": "execute_result"
    }
   ],
   "source": [
    "G= nx.MultiGraph()\n",
    "G.add_edge('A','B',weight=2,relation ='family')\n",
    "G.add_edge('A','B',weight=4,relation ='friend')\n",
    "G.add_edge('C','B',weight=8,relation ='friend')\n",
    "\n",
    "G['A']['B']"
   ]
  },
  {
   "cell_type": "code",
   "execution_count": 21,
   "metadata": {},
   "outputs": [
    {
     "data": {
      "text/plain": [
       "2"
      ]
     },
     "execution_count": 21,
     "metadata": {},
     "output_type": "execute_result"
    }
   ],
   "source": [
    "G['A']['B'][0]['weight']"
   ]
  },
  {
   "cell_type": "code",
   "execution_count": null,
   "metadata": {},
   "outputs": [],
   "source": []
  }
 ],
 "metadata": {
  "kernelspec": {
   "display_name": "Python 3",
   "language": "python",
   "name": "python3"
  },
  "language_info": {
   "codemirror_mode": {
    "name": "ipython",
    "version": 3
   },
   "file_extension": ".py",
   "mimetype": "text/x-python",
   "name": "python",
   "nbconvert_exporter": "python",
   "pygments_lexer": "ipython3",
   "version": "3.6.5"
  }
 },
 "nbformat": 4,
 "nbformat_minor": 2
}
