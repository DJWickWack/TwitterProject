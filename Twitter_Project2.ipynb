{
 "cells": [
  {
   "cell_type": "code",
   "execution_count": 1,
   "metadata": {},
   "outputs": [],
   "source": [
    "import tweepy\n",
    "import json\n",
    "import pandas as pd\n",
    "from time import sleep\n",
    "import datetime\n",
    "import os\n",
    "from textblob import TextBlob\n",
    "#import twitter apps configaration file from config.py file\n",
    "from config import keys as k\n",
    "Players=[\"GamsuOW\",\"STRIKER_OW\",\"blaseOW\",\"aimgod_ow\",\"KellexOW\",\"HarryHook\",\"MickiePP\",\n",
    "         \"DF_aKm\",\"uNKOE\",\"OGE_ow\",\"HAGOPEUN_OW\",\"minon501\",\"MisfitsTviQuE\",\"xepher123\",\n",
    "         \"Apply\",\"Muma\",\"BaniOW\",\"Forceboink\",\"LiNkzrOW\",\"coolmatt69\",\"Birdring\",\"BdosinOW\",\n",
    "         \"NUS_OW\",\"Furyy_d\", \"Profit_OWL\",\"Surefour\", \"ow_void\",\"BischuGG\", \"Shaz_OW\",\"Hydration\",\n",
    "         \"karivow\",\"spaceOW\",\"Custa\",\"agilities\",\"Fate_ow\",\"saebyeolbe\",\"MekOppa\",\"Anamo_ow\",\"tf2pine\",\n",
    "         \"Mano_OWL\",\"Boombox\",\"poko_ow\",\"carpe_ow\",\"snillo_ow\",\"SADO_OW\",\"smurf_ow\",\"moth_ow\",\"Shock_CHB\",\n",
    "         \"super_OW\",\"KING_BABYBAY\"]"
   ]
  },
  {
   "cell_type": "code",
   "execution_count": 2,
   "metadata": {},
   "outputs": [],
   "source": [
    "class tweets():\n",
    "    def __init__(self,keys):\n",
    "        #Authentication using keys & accesstoken\n",
    "        auth = tweepy.OAuthHandler(keys.consumer_key, keys.consumer_secret)\n",
    "        auth.set_access_token(keys.access_token, keys.access_token_secret)\n",
    "        self.api = tweepy.API(auth)\n",
    "    def get_info_about_user(self,user_name):\n",
    "        #Donal Trump Twitter account\n",
    "        user = self.api.get_user(user_name)\n",
    "        print(\"Name:\", user.name)\n",
    "        print(\"User id: \", user.id_str)\n",
    "        print(\"Description: \", user.description)\n",
    "        print(\"Location:\",user.location)\n",
    "        print(\"Time zone: \", user.time_zone)\n",
    "        print(\"Number of Following:\",user.friends_count)\n",
    "        print(\"Number of Followers:\",user.followers_count)\n",
    "        print(\"Number of tweets: \", str(user.statuses_count))\n",
    "    def get_followers(self,user_id,df):\n",
    "        tmplst=[]\n",
    "        print ('Get followers of user ',user_id)\n",
    "        for user in tweepy.Cursor(self.api.followers, screen_name=user_id).items():\n",
    "            sleep(15)\n",
    "            try:\n",
    "                tmplst.append({ 'from':user.screen_name,'to':user_id,'created_at':user.created_at})\n",
    "            except:\n",
    "                print ('[-] Timeout, sleeping for 15 minutes...',len(tmplst))\n",
    "                sleep(15)\n",
    "        return tmplst\n",
    "    # You have to fix the following code\n",
    "    def get_friends(self,user_id):\n",
    "        tmplst=[]\n",
    "        print ('Get friends of user ',user_id)\n",
    "        for user in tweepy.Cursor(self.api.friends, screen_name=user_id).items():\n",
    "            sleep(15)\n",
    "            try:\n",
    "                tmplst.append({ 'from':user_id,'to':user.screen_name,'created_at':user.created_at})\n",
    "            except:\n",
    "                print ('[-] Timeout, sleeping for 15 minutes...',len(tmplst))\n",
    "                sleep(15)\n",
    "        return tmplst"
   ]
  },
  {
   "cell_type": "code",
   "execution_count": 3,
   "metadata": {},
   "outputs": [
    {
     "name": "stdout",
     "output_type": "stream",
     "text": [
      "Get followers of user  Emers0n_m\n",
      "44\n",
      "Empty DataFrame\n",
      "Columns: [from, to, created_at]\n",
      "Index: []\n"
     ]
    }
   ],
   "source": [
    "df= pd.DataFrame(columns=['from','to','created_at'])\n",
    "t=tweets(k)\n",
    "tmplist=[]\n",
    "tmplst=t.get_followers('Emers0n_m',df)\n",
    "print (len(tmplst))\n",
    "df.append(tmplst)\n",
    "print (df.head())"
   ]
  },
  {
   "cell_type": "code",
   "execution_count": null,
   "metadata": {},
   "outputs": [],
   "source": []
  },
  {
   "cell_type": "code",
   "execution_count": null,
   "metadata": {},
   "outputs": [],
   "source": []
  }
 ],
 "metadata": {
  "kernelspec": {
   "display_name": "Python 3",
   "language": "python",
   "name": "python3"
  },
  "language_info": {
   "codemirror_mode": {
    "name": "ipython",
    "version": 3
   },
   "file_extension": ".py",
   "mimetype": "text/x-python",
   "name": "python",
   "nbconvert_exporter": "python",
   "pygments_lexer": "ipython3",
   "version": "3.6.5"
  }
 },
 "nbformat": 4,
 "nbformat_minor": 2
}
